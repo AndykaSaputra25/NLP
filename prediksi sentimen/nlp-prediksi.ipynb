{
 "cells": [
  {
   "cell_type": "code",
   "execution_count": 2,
   "metadata": {
    "ExecuteTime": {
     "end_time": "2021-10-21T14:10:30.377937Z",
     "start_time": "2021-10-21T14:10:28.932227Z"
    }
   },
   "outputs": [],
   "source": [
    "import pandas as pd\n",
    "import numpy as np"
   ]
  },
  {
   "cell_type": "code",
   "execution_count": 7,
   "metadata": {
    "ExecuteTime": {
     "end_time": "2021-10-21T14:14:59.806394Z",
     "start_time": "2021-10-21T14:14:59.779476Z"
    }
   },
   "outputs": [
    {
     "data": {
      "text/html": [
       "<div>\n",
       "<style scoped>\n",
       "    .dataframe tbody tr th:only-of-type {\n",
       "        vertical-align: middle;\n",
       "    }\n",
       "\n",
       "    .dataframe tbody tr th {\n",
       "        vertical-align: top;\n",
       "    }\n",
       "\n",
       "    .dataframe thead th {\n",
       "        text-align: right;\n",
       "    }\n",
       "</style>\n",
       "<table border=\"1\" class=\"dataframe\">\n",
       "  <thead>\n",
       "    <tr style=\"text-align: right;\">\n",
       "      <th></th>\n",
       "      <th>tweet</th>\n",
       "      <th>label</th>\n",
       "    </tr>\n",
       "  </thead>\n",
       "  <tbody>\n",
       "    <tr>\n",
       "      <th>0</th>\n",
       "      <td>MICE memiliki potensi yang sangat besar untuk ...</td>\n",
       "      <td>Ekonomi</td>\n",
       "    </tr>\n",
       "    <tr>\n",
       "      <th>1</th>\n",
       "      <td>Paus Fransiskus pada Senin (13/9/2021), menyer...</td>\n",
       "      <td>Ekonomi</td>\n",
       "    </tr>\n",
       "    <tr>\n",
       "      <th>2</th>\n",
       "      <td>Pemerintah sudah menanggung bunga dan pokok ut...</td>\n",
       "      <td>Ekonomi</td>\n",
       "    </tr>\n",
       "    <tr>\n",
       "      <th>3</th>\n",
       "      <td>Menurut Ekonom Institute for Development of Ec...</td>\n",
       "      <td>Ekonomi</td>\n",
       "    </tr>\n",
       "    <tr>\n",
       "      <th>4</th>\n",
       "      <td>Kementerian Pariwisata dan Ekonomi Kreatif opt...</td>\n",
       "      <td>Ekonomi</td>\n",
       "    </tr>\n",
       "  </tbody>\n",
       "</table>\n",
       "</div>"
      ],
      "text/plain": [
       "                                               tweet    label\n",
       "0  MICE memiliki potensi yang sangat besar untuk ...  Ekonomi\n",
       "1  Paus Fransiskus pada Senin (13/9/2021), menyer...  Ekonomi\n",
       "2  Pemerintah sudah menanggung bunga dan pokok ut...  Ekonomi\n",
       "3  Menurut Ekonom Institute for Development of Ec...  Ekonomi\n",
       "4  Kementerian Pariwisata dan Ekonomi Kreatif opt...  Ekonomi"
      ]
     },
     "execution_count": 7,
     "metadata": {},
     "output_type": "execute_result"
    }
   ],
   "source": [
    "df = pd.read_csv(\"data/dataset_klasifikasi_topik.csv\", sep=\";\")\n",
    "df.head()"
   ]
  },
  {
   "cell_type": "code",
   "execution_count": 8,
   "metadata": {
    "ExecuteTime": {
     "end_time": "2021-10-21T14:15:00.742987Z",
     "start_time": "2021-10-21T14:15:00.731436Z"
    }
   },
   "outputs": [
    {
     "data": {
      "text/plain": [
       "1250"
      ]
     },
     "execution_count": 8,
     "metadata": {},
     "output_type": "execute_result"
    }
   ],
   "source": [
    "len(df)"
   ]
  },
  {
   "cell_type": "code",
   "execution_count": 9,
   "metadata": {
    "ExecuteTime": {
     "end_time": "2021-10-21T14:15:01.435520Z",
     "start_time": "2021-10-21T14:15:01.414706Z"
    }
   },
   "outputs": [
    {
     "data": {
      "text/plain": [
       "Politik       250\n",
       "Ekonomi       250\n",
       "Sosial        250\n",
       "Kesehatan     250\n",
       "Pendidikan    250\n",
       "Name: label, dtype: int64"
      ]
     },
     "execution_count": 9,
     "metadata": {},
     "output_type": "execute_result"
    }
   ],
   "source": [
    "df['label'].value_counts()"
   ]
  },
  {
   "cell_type": "code",
   "execution_count": 10,
   "metadata": {
    "ExecuteTime": {
     "end_time": "2021-10-21T14:15:02.304573Z",
     "start_time": "2021-10-21T14:15:02.271950Z"
    }
   },
   "outputs": [],
   "source": [
    "df.drop_duplicates(inplace=True)"
   ]
  },
  {
   "cell_type": "code",
   "execution_count": 11,
   "metadata": {
    "ExecuteTime": {
     "end_time": "2021-10-21T14:15:03.218904Z",
     "start_time": "2021-10-21T14:15:03.120906Z"
    }
   },
   "outputs": [],
   "source": [
    "df.dropna(inplace=True)"
   ]
  },
  {
   "cell_type": "code",
   "execution_count": 12,
   "metadata": {
    "ExecuteTime": {
     "end_time": "2021-10-21T14:15:03.807451Z",
     "start_time": "2021-10-21T14:15:03.774821Z"
    }
   },
   "outputs": [
    {
     "name": "stdout",
     "output_type": "stream",
     "text": [
      "<class 'pandas.core.frame.DataFrame'>\n",
      "Int64Index: 1250 entries, 0 to 1249\n",
      "Data columns (total 2 columns):\n",
      " #   Column  Non-Null Count  Dtype \n",
      "---  ------  --------------  ----- \n",
      " 0   tweet   1250 non-null   object\n",
      " 1   label   1250 non-null   object\n",
      "dtypes: object(2)\n",
      "memory usage: 29.3+ KB\n"
     ]
    }
   ],
   "source": [
    "df.info()"
   ]
  },
  {
   "cell_type": "code",
   "execution_count": 13,
   "metadata": {
    "ExecuteTime": {
     "end_time": "2021-10-21T14:15:04.661413Z",
     "start_time": "2021-10-21T14:15:04.622395Z"
    }
   },
   "outputs": [],
   "source": [
    "import re\n",
    "\n",
    "with open(\"dict/id_stopwords.txt\") as f:\n",
    "    id_stopwords = f.read().splitlines()\n",
    "\n",
    "with open(\"dict/en_stopwords.txt\") as f:\n",
    "    en_stopwords = f.read().splitlines()\n",
    "\n",
    "stopwords = id_stopwords + en_stopwords"
   ]
  },
  {
   "cell_type": "code",
   "execution_count": 14,
   "metadata": {
    "ExecuteTime": {
     "end_time": "2021-10-21T14:15:05.773954Z",
     "start_time": "2021-10-21T14:15:05.591454Z"
    }
   },
   "outputs": [],
   "source": [
    "import re\n",
    "\n",
    "# text preprocessing\n",
    "def clean_text(text):\n",
    "    if type(text) == np.float:\n",
    "        return \"\"\n",
    "    temp = text.lower()\n",
    "    temp = re.sub(\"'\", \"\", temp)\n",
    "    temp = re.sub(\"@[A-Za-z0-9_]+\",\"\", temp)\n",
    "    temp = re.sub(\"#[A-Za-z0-9_]+\",\"\", temp)\n",
    "    temp = re.sub(r'http\\S+', '', temp)\n",
    "    temp = re.sub('[()!?]', ' ', temp)\n",
    "    temp = re.sub('\\[.*?\\]',' ', temp)\n",
    "    temp = re.sub(\"[^a-z0-9]\",\" \", temp)\n",
    "    temp = temp.split()\n",
    "    temp = [w for w in temp if not w in stopwords]\n",
    "    temp = \" \".join(word for word in temp)\n",
    "    return temp\n",
    "\n",
    "df['cleaned'] = df['tweet'].apply(clean_text)"
   ]
  },
  {
   "cell_type": "code",
   "execution_count": 15,
   "metadata": {
    "ExecuteTime": {
     "end_time": "2021-10-21T14:15:10.156386Z",
     "start_time": "2021-10-21T14:15:10.093686Z"
    }
   },
   "outputs": [
    {
     "name": "stdout",
     "output_type": "stream",
     "text": [
      "Ekonomi\n",
      "ekonomi       112\n",
      "pandemi        60\n",
      "keuangan       45\n",
      "covid          45\n",
      "19             45\n",
      "pemerintah     40\n",
      "indonesia      38\n",
      "saham          36\n",
      "2021           36\n",
      "tahun          28\n",
      "dtype: int64\n",
      "\n",
      "\n",
      "Kesehatan\n",
      "kesehatan     150\n",
      "19             95\n",
      "covid          91\n",
      "penyakit       46\n",
      "vaksinasi      39\n",
      "vaksin         36\n",
      "pandemi        33\n",
      "protokol       31\n",
      "masyarakat     30\n",
      "indonesia      29\n",
      "dtype: int64\n",
      "\n",
      "\n",
      "Pendidikan\n",
      "sekolah         95\n",
      "mahasiswa       91\n",
      "muka            53\n",
      "tatap           52\n",
      "universitas     46\n",
      "siswa           44\n",
      "2021            30\n",
      "kuliah          29\n",
      "tahun           28\n",
      "pembelajaran    26\n",
      "dtype: int64\n",
      "\n",
      "\n",
      "Politik\n",
      "partai        119\n",
      "politik        76\n",
      "presiden       57\n",
      "pemilu         37\n",
      "demokrasi      33\n",
      "jokowi         32\n",
      "kebijakan      28\n",
      "pemerintah     26\n",
      "pan            25\n",
      "menteri        24\n",
      "dtype: int64\n",
      "\n",
      "\n",
      "Sosial\n",
      "masyarakat    169\n",
      "sosial         75\n",
      "bantuan        53\n",
      "19             29\n",
      "covid          29\n",
      "pandemi        27\n",
      "pemerintah     26\n",
      "indonesia      23\n",
      "media          18\n",
      "ppkm           17\n",
      "dtype: int64\n",
      "\n",
      "\n"
     ]
    }
   ],
   "source": [
    "# what are the top words from each class?\n",
    "\n",
    "for label in df['label'].unique():\n",
    "    temp = df[df['label']==label]\n",
    "    \n",
    "    print(label)\n",
    "    all_text = ' '.join(temp['cleaned'])\n",
    "    tokens = all_text.split()\n",
    "    \n",
    "    top_words = pd.Series(tokens).value_counts().nlargest(10)\n",
    "    print(top_words)\n",
    "    print(\"\\n\")"
   ]
  },
  {
   "cell_type": "code",
   "execution_count": 16,
   "metadata": {
    "ExecuteTime": {
     "end_time": "2021-10-21T14:15:11.871275Z",
     "start_time": "2021-10-21T14:15:11.449145Z"
    }
   },
   "outputs": [],
   "source": [
    "from sklearn.model_selection import train_test_split\n",
    "from sklearn.naive_bayes import MultinomialNB\n",
    "from sklearn.ensemble import RandomForestClassifier\n",
    "from sklearn.linear_model import LogisticRegression\n",
    "from sklearn.svm import SVC, LinearSVC\n",
    "from sklearn.metrics import accuracy_score\n",
    "from sklearn.metrics import confusion_matrix"
   ]
  },
  {
   "cell_type": "code",
   "execution_count": 17,
   "metadata": {
    "ExecuteTime": {
     "end_time": "2021-10-21T14:15:14.703810Z",
     "start_time": "2021-10-21T14:15:14.685751Z"
    }
   },
   "outputs": [],
   "source": [
    "X = df['cleaned'] # features\n",
    "y = df['label'] # classes"
   ]
  },
  {
   "cell_type": "code",
   "execution_count": 18,
   "metadata": {
    "ExecuteTime": {
     "end_time": "2021-10-21T14:15:15.936884Z",
     "start_time": "2021-10-21T14:15:15.761827Z"
    }
   },
   "outputs": [
    {
     "data": {
      "text/plain": [
       "['batas',\n",
       " 'batu',\n",
       " 'batubara',\n",
       " 'bau',\n",
       " 'bawah',\n",
       " 'bayar',\n",
       " 'bayi',\n",
       " 'bbm',\n",
       " 'bbvet',\n",
       " 'bca',\n",
       " 'bea',\n",
       " 'beasiswa',\n",
       " 'beban',\n",
       " 'bebas',\n",
       " 'beberapa',\n",
       " 'begini',\n",
       " 'bei',\n",
       " 'bekal',\n",
       " 'bekasi',\n",
       " 'bekerja']"
      ]
     },
     "execution_count": 18,
     "metadata": {},
     "output_type": "execute_result"
    }
   ],
   "source": [
    "from sklearn.feature_extraction.text import TfidfVectorizer\n",
    "\n",
    "X_train, X_test, y_train, y_test = train_test_split(X, y, test_size=0.25, random_state=99)\n",
    "\n",
    "# vectorizer\n",
    "vectorizer = TfidfVectorizer()\n",
    "X_train_vect = vectorizer.fit_transform(X_train.apply(clean_text))\n",
    "vectorizer.get_feature_names()[400:420]"
   ]
  },
  {
   "cell_type": "code",
   "execution_count": 25,
   "metadata": {
    "ExecuteTime": {
     "end_time": "2021-10-21T14:15:46.534345Z",
     "start_time": "2021-10-21T14:15:45.948233Z"
    }
   },
   "outputs": [
    {
     "data": {
      "text/plain": [
       "RandomForestClassifier()"
      ]
     },
     "execution_count": 25,
     "metadata": {},
     "output_type": "execute_result"
    }
   ],
   "source": [
    "X_test_vect = vectorizer.transform(X_test.apply(clean_text))\n",
    "\n",
    "# classification\n",
    "# clf = MultinomialNB()\n",
    "# clf = SVC(kernel='rbf')\n",
    "clf = RandomForestClassifier()\n",
    "# clf = LogisticRegression()\n",
    "clf.fit(X_train_vect, y_train)"
   ]
  },
  {
   "cell_type": "code",
   "execution_count": 26,
   "metadata": {
    "ExecuteTime": {
     "end_time": "2021-10-21T14:15:47.662570Z",
     "start_time": "2021-10-21T14:15:47.600797Z"
    }
   },
   "outputs": [
    {
     "name": "stdout",
     "output_type": "stream",
     "text": [
      "0.8913738019169329\n",
      "[[59  3  0  0  4]\n",
      " [ 2 50  1  4  4]\n",
      " [ 1  0 58  0  1]\n",
      " [ 2  0  0 59  3]\n",
      " [ 6  2  0  1 53]]\n",
      "\n",
      "\n"
     ]
    }
   ],
   "source": [
    "# result\n",
    "y_pred = clf.predict(X_test_vect)\n",
    "acc = accuracy_score(y_test, y_pred)\n",
    "conf = confusion_matrix(y_test, y_pred)\n",
    "\n",
    "print(acc)\n",
    "print(conf)\n",
    "print(\"\\n\")\n"
   ]
  },
  {
   "cell_type": "code",
   "execution_count": 27,
   "metadata": {
    "ExecuteTime": {
     "end_time": "2021-10-21T14:17:04.387410Z",
     "start_time": "2021-10-21T14:16:59.729931Z"
    },
    "scrolled": false
   },
   "outputs": [
    {
     "name": "stdout",
     "output_type": "stream",
     "text": [
      "pgri menekankan apapun alasannya pemerintah membina sekolah berskala kecil banyak diisi masyarakat kurang mampu terjadi lost generation masa mendatang >> should be PENDIDIKAN >> predicted SOSIAL\n",
      "\n",
      "\n",
      "penyebaran varian 32 negara menjadi perhatian pemerintah presiden jokowi meminta jajarannya mencegah masuknya varian baru virus sars cov 2 disebut lebih berbahaya >> should be KESEHATAN >> predicted POLITIK\n",
      "\n",
      "\n",
      "menkeu sri mulyani perayaan idul adha selalu mengingatkan pentingnya berbagi sesama termasuk masa pandemi >> should be SOSIAL >> predicted EKONOMI\n",
      "\n",
      "\n",
      "anies dunia tercengan indonesia mampu kendalikan covid 19 anies kunci bangsa indonesia mengendalikan pandemi covid 19 kolaborasi pemerintah masyarakat melawan menangani covid 19 >> should be KESEHATAN >> predicted SOSIAL\n",
      "\n",
      "\n",
      "pemerintah belajar momen kritis ledakan varian delta juli agustus 2021 ketidaksiapan menangani dampak kesehatan sosial ekonomi masyarakat >> should be KESEHATAN >> predicted EKONOMI\n",
      "\n",
      "\n",
      "terpaksa isolasi mandiri gambaran inilah belakangan marak terjadi rs menyerah pasien covid 19 pasrah ratusan pasien isoman ditemukan meninggal dunia lalu siapa sepatutnya bertanggung jawab catatan demokrasi jam 20 00 wib tvone >> should be KESEHATAN >> predicted POLITIK\n",
      "\n",
      "\n",
      "wali kota firdaus mengatakan kebijakan selama ppkm level 2 mendorong pemulihan ekonomi masa pandemi covid 19 >> should be KESEHATAN >> predicted EKONOMI\n",
      "\n",
      "\n",
      "pemerintah menggulirkan kebijakan bantuan fiskal sewa toko bebas ppn kata pengusaha ritel >> should be EKONOMI >> predicted SOSIAL\n",
      "\n",
      "\n",
      "ruu perampasan aset gagal program legislasi nasional prioritas 2021 utang masa pembahasan undang undang lima tahun >> should be POLITIK >> predicted EKONOMI\n",
      "\n",
      "\n",
      "bisnis waralaba kuliner diperkirakan bakal terus berkembang masa pandemi makanan minuman merupakan kebutuhan dasar manusia pertumbuhan kelas menengah indonesia meningkatkan konsumsi masyarakat >> should be EKONOMI >> predicted SOSIAL\n",
      "\n",
      "\n",
      "cegah penyakit masyarakat diajak konsisten beraktivitas fisik rumah >> should be KESEHATAN >> predicted SOSIAL\n",
      "\n",
      "\n",
      "bupati bogor ade yasin memutuskan menerapkan kebijakan pemberlakuan pembatasan kegiatan masyarakat ppkm darurat wilayah kabupaten bogor >> should be POLITIK >> predicted SOSIAL\n",
      "\n",
      "\n",
      "warga mengikuti vaksinasi corona sekadau mendapatkan beras 5 kg vaksinasi digelar partai demokrat bekerja pemkab sekadau >> should be KESEHATAN >> predicted POLITIK\n",
      "\n",
      "\n",
      "menteri keuangan sri mulyani indrawati mengungkap lambatnya pemerintah daerah menyalurkan blt desa >> should be SOSIAL >> predicted EKONOMI\n",
      "\n",
      "\n",
      "pengusaha kuliner purwokerto temanggung jawa tengah berusaha melakukan berbagai upaya tetap bertahan masa sulit pandemi covid 19 >> should be EKONOMI >> predicted KESEHATAN\n",
      "\n",
      "\n",
      "permulaan masalah kesehatan masalah keuangan ketidakpastian dipicu pandemi covid 19 berkontribusi peningkatan level stress >> should be EKONOMI >> predicted KESEHATAN\n",
      "\n",
      "\n",
      "presiden jokowi mengungkapkan kemajuan penanganan pandemi corona indonesia bed occupation rate bor rs corona merosot tajam >> should be KESEHATAN >> predicted POLITIK\n",
      "\n",
      "\n",
      "laporan muncul negara negara miskin berjuang keras memvaksinasi populasi kendala pasokan vaksin covid 19 >> should be EKONOMI >> predicted KESEHATAN\n",
      "\n",
      "\n",
      "data bps terbaru menunjukkan sebanyak 500 000 warga jakarta lembah kemiskinan tahun pemprov membantu refocusing anggaran >> should be SOSIAL >> predicted EKONOMI\n",
      "\n",
      "\n",
      "gerakan rata sebuah platform subsidi silang membantu keuangan pekerja ekonominya terdampak covid 19 >> should be SOSIAL >> predicted EKONOMI\n",
      "\n",
      "\n",
      "berdasarkan pertimbangan kondisi tengah berlangsung kementerian keuangan kemendikbudristek kementerian agama melanjutkan bantuan kuota data internet bantuan ukt tahun 2021 tulis kememendikbud ristek selasa 4 8 2021 >> should be PENDIDIKAN >> predicted EKONOMI\n",
      "\n",
      "\n",
      "masyarakat bakal diwajibkan membawa sertifikat vaksinasi covid 19 hendak mengurus pajak kendaraan bermotor gerai samsat cikokol >> should be KESEHATAN >> predicted SOSIAL\n",
      "\n",
      "\n",
      "menteri keuangan sri mulyani indrawati meminta obligor debitur segera memenuhi panggilan satgas blbi >> should be SOSIAL >> predicted EKONOMI\n",
      "\n",
      "\n",
      "gubernur sumatera barat mahyeldi diminta memberikan penjelasan soal polemik surat digunakan meminta uang kepercayaan masyarakat mahyeldi hilang >> should be POLITIK >> predicted SOSIAL\n",
      "\n",
      "\n",
      "kebijakan bekerja rumah pembatasan kegiatan masyarakat selalu menurunkan tingkat konsumsi listrik pln pemerintah memperpanjang pemberian stimulus tarif listrik masa pandemi >> should be EKONOMI >> predicted SOSIAL\n",
      "\n",
      "\n",
      "mendagri meminta seluruh kepala daerah membantu masyarakat kesulitan ekonomi ppkm darurat >> should be SOSIAL >> predicted EKONOMI\n",
      "\n",
      "\n",
      "anggota kabinet jokowi luhut pandjaitan moeldoko melaporkan aktivis mengkritiknya kepolisian koalisi masyarakat sipil mengecam langkah pelaporan dianggap mengkriminalkan aktivis >> should be POLITIK >> predicted SOSIAL\n",
      "\n",
      "\n",
      "presiden joko widodo meminta masyarakat euforia berlebihan penurunan situasi pandemi virus corona indonesia jokowi mewanti wanti jajarannya mewaspadai potensi penularan varian baru virus corona >> should be KESEHATAN >> predicted SOSIAL\n",
      "\n",
      "\n",
      "dewan pakar ikatan ahli kesehatan masyarakat indonesia iakmi hermawan saputra mengatakan indonesia berpotensi mengalami pademi covid 19 waktu lama membuat indonesia berpotensi mengalami hiperendemi hiperendemi >> should be SOSIAL >> predicted KESEHATAN\n",
      "\n",
      "\n",
      "momentum hari perumahan nasional 25 agustus mengingatkan perlunya negara hadir memenuhi kebutuhan dasar papan khususnya masyarakat berpenghasilan rendah selama kesulitan menjangkau rumah >> should be EKONOMI >> predicted SOSIAL\n",
      "\n",
      "\n",
      "wali kota solo gibran rakabuming raka meminta dinas kesehatan melakukan tes swab antigen acak sekolah melaksanakan ptm terbatas >> should be KESEHATAN >> predicted PENDIDIKAN\n",
      "\n",
      "\n",
      "serbuan vaksinasi bakti sosial bagian sinergitas tni polri menekan laju covid 19 >> should be SOSIAL >> predicted KESEHATAN\n",
      "\n",
      "\n",
      "keterkaitan antarfaktor strategi transisi energi bersih meliputi emisi pembukaan lahan subsidi kesejahteraan petani praktik pertambangan devisa negara perlu ditinjau terintegrasi >> should be SOSIAL >> predicted POLITIK\n",
      "\n",
      "\n",
      "pemikiran hatta soal koperasi berprinsipkan ekonomi lebih hatta merancang koperasi memiliki nilai kebermanfaatan sisi sosial maupun pendidikan politik >> should be POLITIK >> predicted EKONOMI\n",
      "\n",
      "\n"
     ]
    }
   ],
   "source": [
    "# evaluate your predictions\n",
    "for text, label in zip(X_test, y_test):\n",
    "    pred = clf.predict(vectorizer.transform([text]))[0]\n",
    "    if pred!=label:\n",
    "        print(text, \">> should be\", label.upper(), \">> predicted\",pred.upper())\n",
    "        print(\"\\n\")"
   ]
  },
  {
   "cell_type": "code",
   "execution_count": null,
   "metadata": {},
   "outputs": [],
   "source": []
  }
 ],
 "metadata": {
  "kernelspec": {
   "display_name": "Python 3",
   "language": "python",
   "name": "python3"
  },
  "language_info": {
   "codemirror_mode": {
    "name": "ipython",
    "version": 3
   },
   "file_extension": ".py",
   "mimetype": "text/x-python",
   "name": "python",
   "nbconvert_exporter": "python",
   "pygments_lexer": "ipython3",
   "version": "3.8.3"
  }
 },
 "nbformat": 4,
 "nbformat_minor": 4
}
